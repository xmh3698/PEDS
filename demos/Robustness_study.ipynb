{
 "cells": [
  {
   "cell_type": "markdown",
   "metadata": {},
   "source": [
    "# Physics-Enhanced Deep Surrogate (PEDS) Robustness study\n",
    "\n",
    "We further studied the general robustness of PEDS further studied robustness in the most difficult case of Maxwell’s equations \n",
    "We consider models without ensembling and without active learning to single out the effect of PEDS in comparison to Neural Networks (NN-only) and predicting the mean.\n",
    "We study the robustness on random split and stratified splits of the test set. \n",
    "We report that PEDS' error is 5x more robust to random splits in the test set, and PEDS improvement compared to the baseline is robust to test set splits."
   ]
  },
  {
   "cell_type": "code",
   "execution_count": 2,
   "metadata": {},
   "outputs": [],
   "source": [
    "using Distributions"
   ]
  },
  {
   "cell_type": "code",
   "execution_count": 3,
   "metadata": {},
   "outputs": [
    {
     "name": "stderr",
     "output_type": "stream",
     "text": [
      "\u001b[33m\u001b[1m┌ \u001b[22m\u001b[39m\u001b[33m\u001b[1mWarning: \u001b[22m\u001b[39mPackage cuDNN not found in current path.\n",
      "\u001b[33m\u001b[1m│ \u001b[22m\u001b[39m- Run `import Pkg; Pkg.add(\"cuDNN\")` to install the cuDNN package, then restart julia.\n",
      "\u001b[33m\u001b[1m│ \u001b[22m\u001b[39m- If cuDNN is not installed, some Flux functionalities will not be available when running on the GPU.\n",
      "\u001b[33m\u001b[1m└ \u001b[22m\u001b[39m\u001b[90m@ FluxCUDAExt C:\\Users\\XMhua\\.julia\\packages\\Flux\\CUn7U\\ext\\FluxCUDAExt\\FluxCUDAExt.jl:57\u001b[39m\n",
      "WARNING: method definition for rrule at D:\\GT\\bugfix\\PEDS\\src\\coarse.jl:326 declares type variable N but does not use it.\n",
      "WARNING: method definition for rrule at D:\\GT\\bugfix\\PEDS\\src\\coarse.jl:326 declares type variable T but does not use it.\n",
      "WARNING: method definition for #rrule#33 at D:\\GT\\bugfix\\PEDS\\src\\coarse.jl:346 declares type variable N but does not use it.\n",
      "WARNING: method definition for #rrule#33 at D:\\GT\\bugfix\\PEDS\\src\\coarse.jl:346 declares type variable T but does not use it.\n",
      "WARNING: method definition for #realtransmissionSolver#35 at D:\\GT\\bugfix\\PEDS\\src\\coarse.jl:374 declares type variable N but does not use it.\n",
      "WARNING: method definition for #realtransmissionSolver#35 at D:\\GT\\bugfix\\PEDS\\src\\coarse.jl:374 declares type variable T but does not use it.\n",
      "WARNING: method definition for #rrule#36 at D:\\GT\\bugfix\\PEDS\\src\\coarse.jl:377 declares type variable N but does not use it.\n",
      "WARNING: method definition for #rrule#36 at D:\\GT\\bugfix\\PEDS\\src\\coarse.jl:377 declares type variable T but does not use it.\n",
      "WARNING: method definition for #imagtransmissionSolver#37 at D:\\GT\\bugfix\\PEDS\\src\\coarse.jl:378 declares type variable N but does not use it.\n",
      "WARNING: method definition for #imagtransmissionSolver#37 at D:\\GT\\bugfix\\PEDS\\src\\coarse.jl:378 declares type variable T but does not use it.\n",
      "WARNING: method definition for #rrule#38 at D:\\GT\\bugfix\\PEDS\\src\\coarse.jl:381 declares type variable N but does not use it.\n",
      "WARNING: method definition for #rrule#38 at D:\\GT\\bugfix\\PEDS\\src\\coarse.jl:381 declares type variable T but does not use it.\n"
     ]
    }
   ],
   "source": [
    "##load module\n",
    "include(\"../src/PEDS.jl\")\n",
    "\n",
    "##loading data\n",
    "X = readdlm(\"../data/X_maxwell10_small.csv\", ',')\n",
    "y = parse.(Complex{Float64}, readdlm(\"../data/y_maxwell10_small.csv\", ',')[:])\n",
    "\n",
    "Xv = X[:, 1:1024] #valid set\n",
    "Xtest = X[:, end-1023:end] #test set\n",
    "Xt = X[:, 1025:end]\n",
    "\n",
    "yv = y[1:1024] #valid set\n",
    "ytest = y[end-1023:end] #test set\n",
    "yt = y[1025:end];"
   ]
  },
  {
   "cell_type": "code",
   "execution_count": 5,
   "metadata": {},
   "outputs": [
    {
     "name": "stderr",
     "output_type": "stream",
     "text": [
      "WARNING: redefinition of constant Main.drv. This may fail, cause incorrect answers, or produce other errors.\n",
      "WARNING: redefinition of constant Main.valid. This may fail, cause incorrect answers, or produce other errors.\n",
      "WARNING: redefinition of constant Main.drtest. This may fail, cause incorrect answers, or produce other errors.\n",
      "WARNING: redefinition of constant Main.test. This may fail, cause incorrect answers, or produce other errors.\n",
      "WARNING: redefinition of constant Main.nn. This may fail, cause incorrect answers, or produce other errors.\n",
      "WARNING: redefinition of constant Main.cs. This may fail, cause incorrect answers, or produce other errors.\n",
      "WARNING: redefinition of constant Main.commModel. This may fail, cause incorrect answers, or produce other errors.\n",
      "WARNING: redefinition of constant Main.commLeader. This may fail, cause incorrect answers, or produce other errors.\n"
     ]
    },
    {
     "data": {
      "text/plain": [
       "TaskLocalRNG()"
      ]
     },
     "execution_count": 5,
     "metadata": {},
     "output_type": "execute_result"
    }
   ],
   "source": [
    "datalimitvalid = 2^10\n",
    "Jval=1\n",
    "batchsize=64\n",
    "\n",
    "##Definition of problem constants\n",
    "const debug = false\n",
    "const drv = DataRunner(Xv, yv, [1]);\n",
    "const al = ALstruct(J=Jval, Nvalid=datalimitvalid, batchsize=batchsize);\n",
    "const valid = initvalid(al, drv) #validation loader\n",
    "\n",
    "const drtest = DataRunner(Xtest, ytest, [1]);\n",
    "const test = initvalid(al, drtest) #validation loader\n",
    "\n",
    "const nn = NNstruct(outGen=[256, 256, 10*110],\n",
    "postGen = [x-> @. x*1.5 + 2.5; x-> reshape(x, (110,10,:))],\n",
    "inVar = [110*10, 256, 256, 256]);\n",
    "const cs = CSstruct(resolution=10, \n",
    "nn_x=10, \n",
    "ny_nn=110, \n",
    "refsim=0.3364246930443735 + 0.1920021246559511im);\n",
    "const sd = SimulationDomain(cs)\n",
    "##setup MPI and random\n",
    "const comm = MPI.COMM_WORLD\n",
    "const model_color = MPI.Comm_rank(comm)%al.J\n",
    "const commModel = MPI.Comm_split(comm, model_color, 0)\n",
    "const isleader = MPI.Comm_rank(commModel) == 0\n",
    "const commLeader = MPI.Comm_split(comm, isleader, 0)\n",
    "debug && print(\"Comm rank=$(MPI.Comm_rank(comm)), commModel rank = $(MPI.Comm_rank(commModel)), commLeader rank = $(MPI.Comm_rank(commLeader))\\n\")\n",
    "Random.seed!(2139*(model_color+1)) #alter seed for different groups"
   ]
  },
  {
   "cell_type": "code",
   "execution_count": 6,
   "metadata": {},
   "outputs": [
    {
     "data": {
      "text/plain": [
       "dFE (generic function with 1 method)"
      ]
     },
     "execution_count": 6,
     "metadata": {},
     "output_type": "execute_result"
    }
   ],
   "source": [
    "##training functionalities\n",
    "function train_distributed!(comm, commModel, commLeader, mloglik, m, loss, ps, loader, opt, validation_fes; logging=false)\n",
    "    for d in loader\n",
    "        train_loss, back = Zygote.pullback(() -> loss(commModel, mloglik, m, d...), ps)\n",
    "        gs = back(1.)\n",
    "        if debug && isleader\n",
    "            if isnan(train_loss)\n",
    "                @show (model_color, train_loss)\n",
    "            end\n",
    "        end\n",
    "        for x in ps\n",
    "            gs[x][:] .= sum_reduce(commModel, Float64.(gs[x][:]))\n",
    "            if debug && isleader\n",
    "                if any(isnan.(gs[x][:]))\n",
    "                    @show (model_color, train_loss)\n",
    "                    @show (length(x), length(findall(isnan,x)), length(findall(isnan,gs[x][:])))\n",
    "                end\n",
    "\n",
    "                if any(isinf.(gs[x][:]))\n",
    "                    @show (model_color, train_loss)\n",
    "                    @show (length(x), length(findall(isinf,x)), length(findall(isinf,gs[x][:])))\n",
    "                end\n",
    "            end\n",
    "        end\n",
    "        \n",
    "        if debug && isleader\n",
    "            for p_ in ps\n",
    "                if any(isnan.(p_))\n",
    "                    @show (model_color, \"before update\")\n",
    "                end\n",
    "            end\n",
    "        end\n",
    "        Flux.Optimise.update!(opt, ps, gs)\n",
    "        if debug && isleader\n",
    "            for p_ in ps\n",
    "                if any(isnan.(p_))\n",
    "                    @show (model_color, \"after update\")\n",
    "                end\n",
    "            end\n",
    "        end\n",
    "    end\n",
    "\n",
    "    logging && push!(validation_fes, dFE(comm, commModel, commLeader, m))\n",
    "end\n",
    "\n",
    "function dFE(comm, commModel, commLeader, m; valid=valid) \"\"\"dFE computes the FE using parallelization over the batch with MPI\"\"\" \n",
    "    evalsr = zeros(al.Nvalid)\n",
    "    evalsi = zeros(al.Nvalid)\n",
    "    FE = 0.\n",
    "    j=0\n",
    "    ys = Complex{Float64}[]\n",
    "    for (x, y) in valid\n",
    "        for i=1+MPI.Comm_rank(commModel):MPI.Comm_size(commModel):length(y)\n",
    "            rp, ip = m(x[:,i])\n",
    "            evalsr[j*length(y)+i] = rp\n",
    "            evalsi[j*length(y)+i] = ip\n",
    "        end\n",
    "        j+=1\n",
    "        push!(ys, y...)\n",
    "    end\n",
    "    evalsrModel = sum_reduce(commModel, evalsr)\n",
    "    evalsiModel = sum_reduce(commModel, evalsi)\n",
    "    evalsr = sum_reduce(commLeader, evalsrModel) / al.J\n",
    "    evalsi = sum_reduce(commLeader, evalsiModel) / al.J\n",
    "    if MPI.Comm_rank(comm) == 0\n",
    "        ŷ = @. evalsr + 1im * evalsi\n",
    "        FE = norm(ŷ - ys)/norm(ys)\n",
    "        @show FE\n",
    "    end\n",
    "    return FE\n",
    "end"
   ]
  },
  {
   "cell_type": "markdown",
   "metadata": {},
   "source": [
    "## PEDS"
   ]
  },
  {
   "cell_type": "code",
   "execution_count": 7,
   "metadata": {
    "scrolled": false
   },
   "outputs": [
    {
     "name": "stdout",
     "output_type": "stream",
     "text": [
      "kval = 128\n"
     ]
    },
    {
     "name": "stderr",
     "output_type": "stream",
     "text": [
      "\u001b[33m\u001b[1m┌ \u001b[22m\u001b[39m\u001b[33m\u001b[1mWarning: \u001b[22m\u001b[39mLayer with Float32 parameters got Float64 input.\n",
      "\u001b[33m\u001b[1m│ \u001b[22m\u001b[39m  The input will be converted, but any earlier layers may be very slow.\n",
      "\u001b[33m\u001b[1m│ \u001b[22m\u001b[39m  layer = Dense(13 => 256, relu)  \u001b[90m# 3_584 parameters\u001b[39m\n",
      "\u001b[33m\u001b[1m│ \u001b[22m\u001b[39m  summary(x) = \"13-element Vector{Float64}\"\n",
      "\u001b[33m\u001b[1m└ \u001b[22m\u001b[39m\u001b[90m@ Flux C:\\Users\\XMhua\\.julia\\packages\\Flux\\CUn7U\\src\\layers\\stateless.jl:60\u001b[39m\n"
     ]
    },
    {
     "name": "stdout",
     "output_type": "stream",
     "text": [
      "FE = 0.8577009787830996\n",
      "FE = 0.815192597441678\n",
      "FE = 0.6847121154762893\n",
      "FE = 0.4293349735411232\n",
      "FE = 0.37359245102053856\n",
      "FE = 0.30727811959272866\n",
      "FE = 0.28244204088185293\n",
      "FE = 0.26800707317899647\n",
      "FE = 0.32691861764241686\n",
      "FE = 0.28521748808573144\n",
      "330.071395 seconds (76.69 M allocations: 418.372 GiB, 5.55% gc time, 6.75% compilation time)\n"
     ]
    }
   ],
   "source": [
    "kval=2^7\n",
    "\n",
    "##define same AL parameters for all workers\n",
    "MPI.Barrier(comm)\n",
    "al1 = ALstruct(Ninit=256+8*kval, T=0);\n",
    "if MPI.Comm_rank(comm) == 0\n",
    "    @show kval\n",
    "end\n",
    "##ititialize DataRunner and DataSet\n",
    "dr = DataRunner(Xt, yt, [1]);\n",
    "ds = DataSet()\n",
    "validation_fes = []\n",
    "##initialize baseline\n",
    "(mgen, cw, mvar) = initmodel(nn)\n",
    "coarseinput(p) = begin \n",
    "    (coarsified, sd_freq) = Zygote.ignore() do\n",
    "        coarse_geom_func(p)\n",
    "    end\n",
    "    generated =dropdims(mgen(p), dims=3)\n",
    "    debug && isleader && any(isnan.(ϵcombine)) && writedlm(\"inputnan\", p) \n",
    "    debug && isleader && any(isnan.(ϵcombine)) && writedlm(\"mgennan\", mgen(p)) \n",
    "    debug && isleader && any(isnan.(ϵcombine)) && writedlm(\"mgennanparam\", ps)\n",
    "    debug && isleader && any(isnan.(ϵcombine)) && writedlm(\"errorcolor\", model_color)\n",
    "    w = NNlib.sigmoid.(cw*nn.multfact)\n",
    "    # w = max(0, min(1, cw))\n",
    "    ϵcombine = @. w * generated + (1-w) * coarsified\n",
    "    ϵsymmetric = ϵcombine#(ϵcombine .+ reverse(ϵcombine, dims=2))./2\n",
    "    return ϵsymmetric, sd_freq\n",
    "end\n",
    "m(p) = begin\n",
    "    ϵsymmetric, sd_freq = coarseinput(p)\n",
    "    return [realtransmissionSolver(ϵsymmetric, sd_freq = sd_freq); imagtransmissionSolver(ϵsymmetric, sd_freq = sd_freq)]\n",
    "end \n",
    "\n",
    "uq(p) = mvar(coarseinput(p)[1])\n",
    "\n",
    "mloglik(p) =  vcat(m(p), uq(p))\n",
    "ps = Flux.params(mgen, cw, mvar)\n",
    "# ps = Flux.params(mgen, mvar)\n",
    "loader = initloader(al1, dr, ds);\n",
    "opt = ADAM(al1.η)\n",
    "##train baseline\n",
    "if MPI.Comm_rank(comm)==0\n",
    "    @time for iepoch = 1:al1.ne \n",
    "        train_distributed!(comm, commModel, commLeader, mloglik, m, dNLL, ps, loader, opt, validation_fes, logging=true)\n",
    "    end\n",
    "else\n",
    "    for iepoch = 1:al1.ne \n",
    "        train_distributed!(comm, commModel, commLeader, mloglik, m, dNLL, ps, loader, opt, validation_fes, logging=true)\n",
    "    end\n",
    "end\n",
    "##active learning loop\n",
    "for t=1:al1.T\n",
    "    MPI.Comm_rank(comm) == 0 && @show t\n",
    "    loader= getloader(al1, dr, ds, X->varfilter(mloglik, X))\n",
    "    if MPI.Comm_rank(comm)==0 \n",
    "        @time for iepoch = 1:al1.ne \n",
    "            train_distributed!(comm, commModel, commLeader, mloglik, m, dNLL, ps, loader, opt, validation_fes, logging=true)\n",
    "        end\n",
    "    else\n",
    "        for iepoch = 1:al1.ne \n",
    "            train_distributed!(comm, commModel, commLeader, mloglik, m, dNLL, ps, loader, opt, validation_fes, logging=true)\n",
    "        end\n",
    "    end\n",
    "end\n",
    "\n",
    "# ##save models and validation FEs\n",
    "# name = \"PEDS10_example\"\n",
    "# if isleader\n",
    "#     BSON.@save \"$(name)_K$(kval)_mgen$(model_color).bson\" mgen\n",
    "#     BSON.@save \"$(name)_K$(kval)_cw$(model_color).bson\" cw\n",
    "#     BSON.@save \"$(name)_K$(kval)_mvar$(model_color).bson\" mvar\n",
    "# end\n",
    "# if MPI.Comm_rank(comm) == 0\n",
    "#     writedlm(\"$(name)_K$(kval)_validation_fes.csv\", validation_fes, ',')\n",
    "# end"
   ]
  },
  {
   "cell_type": "code",
   "execution_count": 8,
   "metadata": {},
   "outputs": [
    {
     "name": "stdout",
     "output_type": "stream",
     "text": [
      "The error of PEDS on the full test set is\n",
      "FE = 0.2980496076462081\n"
     ]
    },
    {
     "data": {
      "text/plain": [
       "0.2980496076462081"
      ]
     },
     "execution_count": 8,
     "metadata": {},
     "output_type": "execute_result"
    }
   ],
   "source": [
    "println(\"The error of PEDS on the full test set is\")\n",
    "errval=dFE(comm, commModel, commLeader, m, valid=test)"
   ]
  },
  {
   "cell_type": "markdown",
   "metadata": {},
   "source": [
    "### Random split\n",
    "\n",
    "We study the robustness of the error of PEDS when randomly splitting the test set."
   ]
  },
  {
   "cell_type": "code",
   "execution_count": 9,
   "metadata": {},
   "outputs": [],
   "source": [
    "rs = rand(length(ytest))\n",
    "mskr1 = rs.>0.5\n",
    "mskr2 = rs.<=0.5;"
   ]
  },
  {
   "cell_type": "code",
   "execution_count": 10,
   "metadata": {},
   "outputs": [
    {
     "name": "stdout",
     "output_type": "stream",
     "text": [
      "The FEs on the randomly split test sets are:\n",
      "errtest = 0.30101673297394554\n",
      "errtest = 0.29459854026631704\n"
     ]
    }
   ],
   "source": [
    "println(\"The FEs on the randomly split test sets are:\")\n",
    "errtestsPEDSrandom = []\n",
    "for msk in [mskr1, mskr2] #2.4%, 2.4%\n",
    "    predsf = map(i->dot(m(Xtest[:, msk][:, i]), [1.0; 1.0im]), 1:sum(msk));\n",
    "    errtest = norm(predsf-ytest[msk])/norm(ytest[msk])\n",
    "    @show errtest\n",
    "    push!(errtestsPEDSrandom, errtest)\n",
    "end"
   ]
  },
  {
   "cell_type": "code",
   "execution_count": 11,
   "metadata": {},
   "outputs": [
    {
     "name": "stdout",
     "output_type": "stream",
     "text": [
      "The relative difference compared to the error on the full test set are\n"
     ]
    },
    {
     "data": {
      "text/plain": [
       "2-element Vector{Float64}:\n",
       " 0.009955139183607015\n",
       " 0.011578835507099663"
      ]
     },
     "execution_count": 11,
     "metadata": {},
     "output_type": "execute_result"
    }
   ],
   "source": [
    "println(\"The relative difference compared to the error on the full test set are\")\n",
    "[abs(errtest-errval)/errval for errtest in errtestsPEDSrandom]"
   ]
  },
  {
   "cell_type": "markdown",
   "metadata": {},
   "source": [
    "### Stratified split\n",
    "\n",
    "We study the robustness of the error of PEDS, when splitting the test set in two half in function of the output value. We split the test set into label with high absolute values (> 1.15) and low absolute values, which is roughly a 50-50 split."
   ]
  },
  {
   "cell_type": "code",
   "execution_count": 12,
   "metadata": {},
   "outputs": [
    {
     "name": "stdout",
     "output_type": "stream",
     "text": [
      "The mean absolute value for the whole test set, and the stratified test set with high and low absolute values are:\n",
      "1.0834087051430121, 1.1937880360548516, and 0.9821243003737256.\n",
      "The data count for the whole test set, and the stratified test set with high and low absolute values are:\n",
      "1024, 490, and 534.\n"
     ]
    }
   ],
   "source": [
    "mskH = abs.(ytest).>1.15\n",
    "mskL = abs.(ytest).<=1.15;\n",
    "println(\"The mean absolute value for the whole test set, and the stratified test set with high and low absolute values are:\")\n",
    "println(\"$(mean(abs, ytest)), $(mean(abs, ytest[mskH])), and $(mean(abs, ytest[mskL])).\")\n",
    "println(\"The data count for the whole test set, and the stratified test set with high and low absolute values are:\")\n",
    "println(\"$(length(ytest)), $(sum(mskH)), and $(sum(mskL)).\")"
   ]
  },
  {
   "cell_type": "code",
   "execution_count": 13,
   "metadata": {},
   "outputs": [
    {
     "name": "stdout",
     "output_type": "stream",
     "text": [
      "The FEs on the stratified split test sets are:\n",
      "errtest = 0.2334463153920033\n",
      "errtest = 0.3660051336847997\n"
     ]
    }
   ],
   "source": [
    "println(\"The FEs on the stratified split test sets are:\")\n",
    "errtestsPEDSstratified = []\n",
    "for msk in [mskH, mskL]\n",
    "    predsf = map(i->dot(m(Xtest[:, msk][:, i]), [1.0; 1.0im]), 1:sum(msk));\n",
    "    errtest = norm(predsf-ytest[msk])/norm(ytest[msk])\n",
    "    @show errtest\n",
    "    append!(errtestsPEDSstratified, errtest)\n",
    "end"
   ]
  },
  {
   "cell_type": "code",
   "execution_count": 14,
   "metadata": {},
   "outputs": [
    {
     "name": "stdout",
     "output_type": "stream",
     "text": [
      "The relative difference compared to the error on the full test set are\n"
     ]
    },
    {
     "data": {
      "text/plain": [
       "2-element Vector{Float64}:\n",
       " 0.2167534886705518\n",
       " 0.22800072301808372"
      ]
     },
     "execution_count": 14,
     "metadata": {},
     "output_type": "execute_result"
    }
   ],
   "source": [
    "println(\"The relative difference compared to the error on the full test set are\")\n",
    "[abs(errtest-errval)/errval for errtest in errtestsPEDSstratified]"
   ]
  },
  {
   "cell_type": "markdown",
   "metadata": {},
   "source": [
    "With about 1000 data points, PEDS perform less well for lower absolute values of the complex transmission coefficient."
   ]
  },
  {
   "cell_type": "markdown",
   "metadata": {},
   "source": [
    "## Baseline"
   ]
  },
  {
   "cell_type": "code",
   "execution_count": 15,
   "metadata": {},
   "outputs": [
    {
     "name": "stdout",
     "output_type": "stream",
     "text": [
      "kval = 128\n",
      "FE = 0.8123875780446773\n",
      "FE = 0.7418925106005231\n",
      "FE = 0.6464766980258803\n",
      "FE = 0.6068669970782117\n",
      "FE = 0.5444202805915394\n",
      "FE = 0.5233060102624337\n",
      "FE = 0.5174969811595236\n",
      "FE = 0.5211313587725638\n",
      "FE = 0.49780352778297954\n",
      "FE = 0.49290690676340554\n",
      " 22.067578 seconds (10.41 M allocations: 70.419 GiB, 22.77% gc time, 8.12% compilation time)\n"
     ]
    }
   ],
   "source": [
    "##define same AL parameters for all workers\n",
    "MPI.Barrier(comm)\n",
    "al1 = ALstruct(Ninit=256+8*kval, T=0);\n",
    "\n",
    "if MPI.Comm_rank(comm) == 0\n",
    "    @show kval\n",
    "end\n",
    "##ititialize DataRunner and DataSet\n",
    "dr = DataRunner(Xt, yt, [1]);\n",
    "ds = DataSet()\n",
    "validation_fes = []\n",
    "##initialize baseline\n",
    "(mgen2, pred2, mvar2) = initbase(nn)\n",
    "mloglik2(p) =  vcat(pred2(mgen2(p)), mvar2(mgen2(p)))\n",
    "m2(p) = pred2(mgen2(p))\n",
    "ps = Flux.params(mgen2, pred2, mvar2)\n",
    "loader = initloader(al1, dr, ds);\n",
    "opt = ADAM(al1.η)\n",
    "##train baseline\n",
    "if MPI.Comm_rank(comm)==0\n",
    "    @time for iepoch = 1:al1.ne \n",
    "        train_distributed!(comm, commModel, commLeader, mloglik2, m2, dNLL, ps, loader, opt, validation_fes, logging=true)\n",
    "    end\n",
    "else\n",
    "    for iepoch = 1:al1.ne \n",
    "        train_distributed!(comm, commModel, commLeader, mloglik2, m2, dNLL, ps, loader, opt, validation_fes, logging=true)\n",
    "    end\n",
    "end\n",
    "##active learning loop\n",
    "for t=1:al1.T\n",
    "    MPI.Comm_rank(comm) == 0 && @show t\n",
    "    loader= getloader(al1, dr, ds, X->varfilter(mloglik, X)) \n",
    "    if MPI.Comm_rank(comm)==0 \n",
    "        @time for iepoch = 1:al1.ne \n",
    "            train_distributed!(comm, commModel, commLeader, mloglik2, m2, dNLL, ps, loader, opt, validation_fes, logging=true)\n",
    "        end\n",
    "    else\n",
    "        for iepoch = 1:al1.ne \n",
    "            train_distributed!(comm, commModel, commLeader, mloglik2, m2, dNLL, ps, loader, opt, validation_fes, logging=true)\n",
    "        end\n",
    "    end\n",
    "end\n",
    "\n",
    "# ##save models and validation FEs\n",
    "# name = \"baseline10_noal_example\"\n",
    "# if isleader\n",
    "#     BSON.@save \"$(name)_K$(kval)_mgen$(model_color).bson\" mgen\n",
    "#     BSON.@save \"$(name)_K$(kval)_pred$(model_color).bson\" pred\n",
    "#     BSON.@save \"$(name)_K$(kval)_mvar$(model_color).bson\" mvar\n",
    "# end\n",
    "# if MPI.Comm_rank(comm) == 0\n",
    "#     writedlm(\"$(name)_K$(kval)_validation_fes.csv\", validation_fes, ',')\n",
    "# end"
   ]
  },
  {
   "cell_type": "code",
   "execution_count": 16,
   "metadata": {},
   "outputs": [
    {
     "name": "stdout",
     "output_type": "stream",
     "text": [
      "The error of NN-only on the full test set is\n",
      "FE = 0.5113234353269354\n"
     ]
    },
    {
     "data": {
      "text/plain": [
       "0.5113234353269354"
      ]
     },
     "execution_count": 16,
     "metadata": {},
     "output_type": "execute_result"
    }
   ],
   "source": [
    "println(\"The error of NN-only on the full test set is\")\n",
    "errvalb = dFE(comm, commModel, commLeader, m2, valid=test)"
   ]
  },
  {
   "cell_type": "code",
   "execution_count": 17,
   "metadata": {},
   "outputs": [
    {
     "name": "stdout",
     "output_type": "stream",
     "text": [
      "PEDS improves the FE by\n",
      "errvalb / errval = 1.7155648664160912\n"
     ]
    },
    {
     "data": {
      "text/plain": [
       "1.7155648664160912"
      ]
     },
     "execution_count": 17,
     "metadata": {},
     "output_type": "execute_result"
    }
   ],
   "source": [
    "println(\"PEDS improves the FE by\")\n",
    "@show errvalb/errval"
   ]
  },
  {
   "cell_type": "markdown",
   "metadata": {},
   "source": [
    "### Random split"
   ]
  },
  {
   "cell_type": "code",
   "execution_count": 18,
   "metadata": {},
   "outputs": [
    {
     "name": "stdout",
     "output_type": "stream",
     "text": [
      "The FEs on the randomly split test sets are:\n",
      "errtest = 0.5326975900500167\n",
      "errtest = 0.48556672187559197\n"
     ]
    }
   ],
   "source": [
    "println(\"The FEs on the randomly split test sets are:\")\n",
    "errtestsBrandom = []\n",
    "for msk in [mskr1, mskr2]\n",
    "    predsf = map(i->dot(m2(Xtest[:, msk][:, i]), [1.0; 1.0im]), 1:sum(msk));\n",
    "    errtest = norm(predsf-ytest[msk])/norm(ytest[msk])\n",
    "    @show errtest\n",
    "    push!(errtestsBrandom, errtest)\n",
    "end"
   ]
  },
  {
   "cell_type": "code",
   "execution_count": 19,
   "metadata": {},
   "outputs": [
    {
     "name": "stdout",
     "output_type": "stream",
     "text": [
      "The relative difference compared to the error on the full test set are\n"
     ]
    },
    {
     "data": {
      "text/plain": [
       "2-element Vector{Float64}:\n",
       " 0.04180163326450101\n",
       " 0.05037264414621402"
      ]
     },
     "execution_count": 19,
     "metadata": {},
     "output_type": "execute_result"
    }
   ],
   "source": [
    "println(\"The relative difference compared to the error on the full test set are\")\n",
    "[abs(errtestb-errvalb)/errvalb for errtestb in errtestsBrandom]"
   ]
  },
  {
   "cell_type": "code",
   "execution_count": 20,
   "metadata": {},
   "outputs": [
    {
     "name": "stdout",
     "output_type": "stream",
     "text": [
      "NN-only is worse than PEDS by a factor of:\n"
     ]
    },
    {
     "data": {
      "text/plain": [
       "2-element Vector{Float64}:\n",
       " 1.7696610576665992\n",
       " 1.6482319343355867"
      ]
     },
     "execution_count": 20,
     "metadata": {},
     "output_type": "execute_result"
    }
   ],
   "source": [
    "println(\"NN-only is worse than PEDS by a factor of:\")\n",
    "[errb/errPEDS for (errb, errPEDS) in zip(errtestsBrandom, errtestsPEDSrandom)]"
   ]
  },
  {
   "cell_type": "markdown",
   "metadata": {},
   "source": [
    "### Stratified split"
   ]
  },
  {
   "cell_type": "code",
   "execution_count": 21,
   "metadata": {},
   "outputs": [
    {
     "name": "stdout",
     "output_type": "stream",
     "text": [
      "The FEs on the stratified split test sets are:\n",
      "errtest = 0.420756212539178\n",
      "errtest = 0.610241105278447\n"
     ]
    }
   ],
   "source": [
    "println(\"The FEs on the stratified split test sets are:\")\n",
    "errtestsBstratified = []\n",
    "for msk in [mskH, mskL]\n",
    "    predsf = map(i->dot(m2(Xtest[:, msk][:, i]), [1.0; 1.0im]), 1:sum(msk));\n",
    "    errtest = norm(predsf-ytest[msk])/norm(ytest[msk])\n",
    "    @show errtest\n",
    "    append!(errtestsBstratified, errtest)\n",
    "end"
   ]
  },
  {
   "cell_type": "code",
   "execution_count": 22,
   "metadata": {},
   "outputs": [
    {
     "name": "stdout",
     "output_type": "stream",
     "text": [
      "The relative difference compared to the error on the full test set are\n"
     ]
    },
    {
     "data": {
      "text/plain": [
       "2-element Vector{Float64}:\n",
       " 0.3038662707963125\n",
       " 0.33188324162778043"
      ]
     },
     "execution_count": 22,
     "metadata": {},
     "output_type": "execute_result"
    }
   ],
   "source": [
    "println(\"The relative difference compared to the error on the full test set are\")\n",
    "[abs(errtest-errvalb)/errval for errtest in errtestsBstratified]"
   ]
  },
  {
   "cell_type": "code",
   "execution_count": 23,
   "metadata": {},
   "outputs": [
    {
     "name": "stdout",
     "output_type": "stream",
     "text": [
      "The improvement from adding PEDS is:\n"
     ]
    },
    {
     "data": {
      "text/plain": [
       "2-element Vector{Float64}:\n",
       " 1.8023681883033524\n",
       " 1.6673020379107062"
      ]
     },
     "execution_count": 23,
     "metadata": {},
     "output_type": "execute_result"
    }
   ],
   "source": [
    "println(\"The improvement from adding PEDS is:\")\n",
    "[errb/errPEDS for (errb, errPEDS) in zip(errtestsBstratified, errtestsPEDSstratified)]"
   ]
  },
  {
   "cell_type": "markdown",
   "metadata": {},
   "source": [
    "## Mean baseline "
   ]
  },
  {
   "cell_type": "code",
   "execution_count": 24,
   "metadata": {},
   "outputs": [
    {
     "name": "stdout",
     "output_type": "stream",
     "text": [
      "The FEs the full data set is:\n",
      "errvalm = 0.9657957695419176\n"
     ]
    },
    {
     "data": {
      "text/plain": [
       "0.9657957695419176"
      ]
     },
     "execution_count": 24,
     "metadata": {},
     "output_type": "execute_result"
    }
   ],
   "source": [
    "println(\"The FEs the full data set is:\")\n",
    "predsmean = mean(ytest)\n",
    "errvalm = norm(predsmean .-ytest)/norm(ytest)\n",
    "@show errvalm"
   ]
  },
  {
   "cell_type": "code",
   "execution_count": 25,
   "metadata": {},
   "outputs": [
    {
     "name": "stdout",
     "output_type": "stream",
     "text": [
      "PEDS improves the FE by\n",
      "errvalm / errval = 3.240385978593\n"
     ]
    },
    {
     "data": {
      "text/plain": [
       "3.240385978593"
      ]
     },
     "execution_count": 25,
     "metadata": {},
     "output_type": "execute_result"
    }
   ],
   "source": [
    "println(\"PEDS improves the FE by\")\n",
    "@show errvalm/errval"
   ]
  },
  {
   "cell_type": "markdown",
   "metadata": {},
   "source": [
    "### Random split"
   ]
  },
  {
   "cell_type": "code",
   "execution_count": 26,
   "metadata": {},
   "outputs": [
    {
     "name": "stdout",
     "output_type": "stream",
     "text": [
      "The FEs on the randomly split test sets are:\n",
      "errtest = 0.9633755149995928\n",
      "errtest = 0.9685731290054408\n"
     ]
    }
   ],
   "source": [
    "println(\"The FEs on the randomly split test sets are:\")\n",
    "errtestsMrandom = []\n",
    "for msk in [mskr1, mskr2]\n",
    "    errtest = norm(predsmean .-ytest[msk])/norm(ytest[msk])\n",
    "    @show errtest\n",
    "    push!(errtestsMrandom, errtest)\n",
    "end"
   ]
  },
  {
   "cell_type": "code",
   "execution_count": 27,
   "metadata": {},
   "outputs": [
    {
     "name": "stdout",
     "output_type": "stream",
     "text": [
      "The relative difference compared to the error on the full test set are\n"
     ]
    },
    {
     "data": {
      "text/plain": [
       "2-element Vector{Float64}:\n",
       " 0.002505969293562646\n",
       " 0.0028757212975166753"
      ]
     },
     "execution_count": 27,
     "metadata": {},
     "output_type": "execute_result"
    }
   ],
   "source": [
    "println(\"The relative difference compared to the error on the full test set are\")\n",
    "[abs(errtestb-errvalm)/errvalm for errtestb in errtestsMrandom]"
   ]
  },
  {
   "cell_type": "code",
   "execution_count": 28,
   "metadata": {},
   "outputs": [
    {
     "name": "stdout",
     "output_type": "stream",
     "text": [
      "Mean prediction is worse than PEDS by a factor of:\n"
     ]
    },
    {
     "data": {
      "text/plain": [
       "2-element Vector{Float64}:\n",
       " 3.200405191704003\n",
       " 3.2877730084129095"
      ]
     },
     "execution_count": 28,
     "metadata": {},
     "output_type": "execute_result"
    }
   ],
   "source": [
    "println(\"Mean prediction is worse than PEDS by a factor of:\")\n",
    "[errb/errPEDS for (errb, errPEDS) in zip(errtestsMrandom, errtestsPEDSrandom)]"
   ]
  },
  {
   "cell_type": "markdown",
   "metadata": {},
   "source": [
    "### Stratified split"
   ]
  },
  {
   "cell_type": "code",
   "execution_count": 29,
   "metadata": {},
   "outputs": [
    {
     "name": "stdout",
     "output_type": "stream",
     "text": [
      "The FEs on the stratified split test sets are:\n",
      "errtest = 0.923471278925129\n",
      "errtest = 1.0187496890362957\n"
     ]
    }
   ],
   "source": [
    "println(\"The FEs on the stratified split test sets are:\")\n",
    "errtestsMstratified = []\n",
    "for msk in [mskH, mskL]\n",
    "    errtest = norm(predsmean .-ytest[msk])/norm(ytest[msk])\n",
    "    @show errtest\n",
    "    append!(errtestsMstratified, errtest)\n",
    "end"
   ]
  },
  {
   "cell_type": "code",
   "execution_count": 30,
   "metadata": {},
   "outputs": [
    {
     "name": "stdout",
     "output_type": "stream",
     "text": [
      "The relative difference compared to the error on the full test set are\n"
     ]
    },
    {
     "data": {
      "text/plain": [
       "2-element Vector{Float64}:\n",
       " 0.0438234375750717\n",
       " 0.05482931398580722"
      ]
     },
     "execution_count": 30,
     "metadata": {},
     "output_type": "execute_result"
    }
   ],
   "source": [
    "println(\"The relative difference compared to the error on the full test set are\")\n",
    "[abs(errtestb-errvalm)/errvalm for errtestb in errtestsMstratified]"
   ]
  },
  {
   "cell_type": "code",
   "execution_count": 31,
   "metadata": {},
   "outputs": [
    {
     "name": "stdout",
     "output_type": "stream",
     "text": [
      "Mean prediction is worse than PEDS by a factor of:\n"
     ]
    },
    {
     "data": {
      "text/plain": [
       "2-element Vector{Float64}:\n",
       " 3.955818610263499\n",
       " 2.783430054053924"
      ]
     },
     "execution_count": 31,
     "metadata": {},
     "output_type": "execute_result"
    }
   ],
   "source": [
    "println(\"Mean prediction is worse than PEDS by a factor of:\")\n",
    "[errb/errPEDS for (errb, errPEDS) in zip(errtestsMstratified, errtestsPEDSstratified)]"
   ]
  },
  {
   "cell_type": "markdown",
   "metadata": {},
   "source": [
    "## Summary\n",
    "\n",
    "\n",
    "|                                             | PEDS          | NN-only       | Mean prediction |\n",
    "|---------------------------------------------|---------------|---------------|-----------------|\n",
    "| Fractional Error (FE) on test set           | 28.33%        | 53.65%        | 95.58%          |\n",
    "| PEDS improvement                            | N/A           | 1.89x         | 3.40x           |\n",
    "| FE with random splits (set 1/set 2)         | 28.28%/28.38% | 54.67%/52.49% | 97.38%/95.68%   |\n",
    "| PEDS improvement                            | N/A           | 1.93x/1.85x   | 3.44x/3.37x     |\n",
    "| FE with stratified split (set high/set low) | 20.19%/36.35% | 46.02%/62.28% | 92.35%/101.87%  |\n",
    "| PEDS improvement                            | N/A           | 2.28x/1.71x   | 4.57x/2.80x     |\n",
    "\n",
    "\n",
    "##  Discussion\n",
    "\n",
    "- On random splits, the NN-only and mean prediction baseline have error that vary by about 1% relatively to the error on the full test set. PEDS' error varies 5 times less is more robust to the choice of test set.\n",
    "- On stratified test sets, with datapoints with high absolute transmission in one set and lower absolute transmission in the other, we see that it is harder to predict lower absolute transmission accurately across the models, but PEDS is always performing much better than the two baseline by a factor of about two at least."
   ]
  },
  {
   "cell_type": "raw",
   "metadata": {},
   "source": [
    "\\begin{table}[]\n",
    "\\begin{tabular}{l|l|l|l|}\n",
    "\\cline{2-4}\n",
    "                                                                  & PEDS            & NN-only         & Mean prediction  \\\\ \\hline\n",
    "\\multicolumn{1}{|l|}{Fractional Error (FE) on test set}           & 28.33\\%         & 53.65\\%         & 95.58\\%          \\\\ \\hline\n",
    "\\multicolumn{1}{|l|}{PEDS improvement}                            & N/A             & 1.89x           & 3.40x            \\\\ \\hline\n",
    "\\multicolumn{1}{|l|}{FE with random splits (set 1/set 2)}         & 28.28\\%/28.38\\% & 54.67\\%/52.49\\% & 97.38\\%/95.68\\%  \\\\ \\hline\n",
    "\\multicolumn{1}{|l|}{PEDS improvement}                            & N/A             & 1.93x/1.85x     & 3.44x/3.37x      \\\\ \\hline\n",
    "\\multicolumn{1}{|l|}{FE with stratified split (set high/set low)} & 20.19\\%/36.35\\% & 46.02\\%/62.28\\% & 92.35\\%/101.87\\% \\\\ \\hline\n",
    "\\multicolumn{1}{|l|}{PEDS improvement}                            & N/A             & 2.28x/1.71x     & 4.57x/2.80x      \\\\ \\hline\n",
    "\\end{tabular}\n",
    "\\end{table}"
   ]
  }
 ],
 "metadata": {
  "kernelspec": {
   "display_name": "Julia 1.10.4",
   "language": "julia",
   "name": "julia-1.10"
  },
  "language_info": {
   "file_extension": ".jl",
   "mimetype": "application/julia",
   "name": "julia",
   "version": "1.10.4"
  }
 },
 "nbformat": 4,
 "nbformat_minor": 4
}
